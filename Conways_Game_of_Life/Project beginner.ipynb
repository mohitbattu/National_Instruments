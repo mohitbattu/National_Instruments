{
 "cells": [
  {
   "cell_type": "code",
   "execution_count": 6,
   "metadata": {},
   "outputs": [
    {
     "name": "stdout",
     "output_type": "stream",
     "text": [
      "initially\n"
     ]
    },
    {
     "data": {
      "text/plain": [
       "<matplotlib.image.AxesImage at 0x1971580f2c8>"
      ]
     },
     "execution_count": 6,
     "metadata": {},
     "output_type": "execute_result"
    },
    {
     "data": {
      "image/png": "[encoded data removed]",
      "text/plain": [
       "<Figure size 432x288 with 1 Axes>"
      ]
     },
     "metadata": {
      "needs_background": "light"
     },
     "output_type": "display_data"
    }
   ],
   "source": [
    "import numpy as np\n",
    "import matplotlib.pyplot as plt\n",
    "import numpy as np\n",
    "cells=[[0,0,1,0,1],[0,1,0,0,1],[0,1,0,0,1],[0,0,1,0,1]]\n",
    "m=4\n",
    "n=5\n",
    "seq=1\n",
    "im=np.asarray(cells)\n",
    "print(\"initially\")\n",
    "plt.imshow(im,cmap='gray')"
   ]
  },
  {
   "cell_type": "code",
   "execution_count": 19,
   "metadata": {},
   "outputs": [
    {
     "name": "stdout",
     "output_type": "stream",
     "text": [
      "after 13 sequence\n"
     ]
    },
    {
     "data": {
      "text/plain": [
       "<matplotlib.image.AxesImage at 0x19716d54688>"
      ]
     },
     "execution_count": 19,
     "metadata": {},
     "output_type": "execute_result"
    },
    {
     "data": {
      "image/png": "[encoded data removed]",
      "text/plain": [
       "<Figure size 432x288 with 1 Axes>"
      ]
     },
     "metadata": {
      "needs_background": "light"
     },
     "output_type": "display_data"
    }
   ],
   "source": [
    "import numpy as np\n",
    "import matplotlib.pyplot as plt\n",
    "for i in range(m):\n",
    "    cells[i].append(0)\n",
    "    cells[i]=[0]+cells[i]\n",
    "cells.append([0]*(n+2))\n",
    "cells=[[0]*(n+2)]+cells\n",
    "m=m+2\n",
    "n=n+2\n",
    "new_cells=[[0]*(n) for i in range(m)]\n",
    "for i in range(m):\n",
    "    for j in range(n):\n",
    "        new_cells[i][j]=cells[i][j]\n",
    "for i in range(m):\n",
    "    for j in range(n):\n",
    "        neighbours=[]\n",
    "        neighbour_count=0\n",
    "        if i-1>=0 and j-1<0:\n",
    "            neighbours.append([i-1,j])\n",
    "        elif i-1<0 and j-1>=0:\n",
    "            neighbours.append([i,j-1])\n",
    "        elif i-1>=0 and j-1>=0:\n",
    "            neighbours.append([i-1,j])\n",
    "            neighbours.append([i,j-1])\n",
    "            neighbours.append([i-1,j-1])\n",
    "        else:\n",
    "            neighbours=neighbours[:]\n",
    "        if i+1<=m-1 and j+1>n-1:\n",
    "            neighbours.append([i+1,j])\n",
    "        elif i+1>m-1 and j+1<=n-1:\n",
    "            neighbours.append([i,j+1])\n",
    "        elif i+1<=m-1 and j+1<=n-1:\n",
    "            neighbours.append([i+1,j])\n",
    "            neighbours.append([i,j+1])\n",
    "            neighbours.append([i+1,j+1])\n",
    "        if i-1>=0 and j+1<=n-1:\n",
    "            neighbours.append([i-1,j+1])\n",
    "        if i+1<=m-1 and j-1>=0:\n",
    "            neighbours.append([i+1,j-1])\n",
    "        for k in neighbours:\n",
    "            p=k[0]\n",
    "            q=k[1]\n",
    "            if cells[p][q]==1:\n",
    "                neighbour_count+=1\n",
    "        if cells[i][j]==1:\n",
    "            if neighbour_count>3 or neighbour_count<2:\n",
    "                new_cells[i][j]=0\n",
    "        else:\n",
    "            if neighbour_count==3:\n",
    "                new_cells[i][j]=1\n",
    "for i in range(m):\n",
    "    for j in range(n):\n",
    "        cells[i][j]=new_cells[i][j]\n",
    "im=np.asarray(cells)\n",
    "print(\"after\",seq,\"sequence\")\n",
    "seq+=1\n",
    "plt.imshow(im)\n"
   ]
  },
  {
   "cell_type": "code",
   "execution_count": null,
   "metadata": {},
   "outputs": [],
   "source": []
  },
  {
   "cell_type": "code",
   "execution_count": null,
   "metadata": {},
   "outputs": [],
   "source": []
  },
  {
   "cell_type": "code",
   "execution_count": null,
   "metadata": {},
   "outputs": [],
   "source": [
    "\n"
   ]
  },
  {
   "cell_type": "code",
   "execution_count": null,
   "metadata": {},
   "outputs": [],
   "source": []
  },
  {
   "cell_type": "code",
   "execution_count": null,
   "metadata": {},
   "outputs": [],
   "source": []
  },
  {
   "cell_type": "code",
   "execution_count": null,
   "metadata": {},
   "outputs": [],
   "source": []
  }
 ],
 "metadata": {
  "kernelspec": {
   "display_name": "Python 3",
   "language": "python",
   "name": "python3"
  },
  "language_info": {
   "codemirror_mode": {
    "name": "ipython",
    "version": 3
   },
   "file_extension": ".py",
   "mimetype": "text/x-python",
   "name": "python",
   "nbconvert_exporter": "python",
   "pygments_lexer": "ipython3",
   "version": "3.7.6"
  }
 },
 "nbformat": 4,
 "nbformat_minor": 2
}
